{
 "cells": [
  {
   "cell_type": "code",
   "execution_count": null,
   "id": "70d69ee4-1627-41ee-aaad-8ac751445750",
   "metadata": {
    "tags": []
   },
   "outputs": [],
   "source": [
    "!pip3 install --user --force-reinstall 'google-cloud-aiplatform>=1.15' -q --no-warn-conflicts\n",
    "!pip3 install --user kfp -q --no-warn-conflicts"
   ]
  },
  {
   "cell_type": "code",
   "execution_count": null,
   "id": "339d7473-0521-4a4e-9e0c-3b200a90c813",
   "metadata": {
    "tags": []
   },
   "outputs": [],
   "source": [
    "import os\n",
    "\n",
    "PROJECT_ID = \"\"\n",
    "\n",
    "# Get your Google Cloud project ID from gcloud\n",
    "if not os.getenv(\"IS_TESTING\"):\n",
    "    shell_output = !gcloud config list --format 'value(core.project)' 2>/dev/null\n",
    "    PROJECT_ID = shell_output[0]\n",
    "    print(\"Project ID: \", PROJECT_ID)"
   ]
  },
  {
   "cell_type": "code",
   "execution_count": null,
   "id": "c57d2f3f-da8c-42a3-8b30-27a56761aea3",
   "metadata": {
    "tags": []
   },
   "outputs": [],
   "source": [
    "if PROJECT_ID == \"\" or PROJECT_ID is None:\n",
    "    PROJECT_ID = \"[your-project-id]\"  # @param {type:\"string\"}"
   ]
  },
  {
   "cell_type": "code",
   "execution_count": null,
   "id": "1b7881c2-b5a7-4e8f-a4d2-d98ec1ea2e73",
   "metadata": {
    "tags": []
   },
   "outputs": [],
   "source": [
    "#set your region \n",
    "REGION = \"us-central1\"  # @param {type: \"string\"}"
   ]
  },
  {
   "cell_type": "code",
   "execution_count": null,
   "id": "9c87b389-2687-42a4-ae39-ca1e9d9778b0",
   "metadata": {
    "tags": []
   },
   "outputs": [],
   "source": [
    "#set timestamp to avoid collisions between multiple users\n",
    "\n",
    "from datetime import datetime\n",
    "\n",
    "TIMESTAMP = datetime.now().strftime(\"%Y%m%d%H%M%S\")"
   ]
  },
  {
   "cell_type": "code",
   "execution_count": null,
   "id": "d786eedc-b17b-45a6-a5a7-be3324b00b54",
   "metadata": {
    "tags": []
   },
   "outputs": [],
   "source": [
    "#set cloud storage bucket \n",
    "BUCKET_NAME = \"k21bucketdata\"  # @param {type:\"string\"}\n",
    "BUCKET_URI = f\"gs://{BUCKET_NAME}\""
   ]
  },
  {
   "cell_type": "code",
   "execution_count": null,
   "id": "2873926a-7bc8-4ff5-b436-706ad6a25c56",
   "metadata": {
    "tags": []
   },
   "outputs": [],
   "source": [
    "# copy the data over to your cloud storage bucket\n",
    "DATASET_URI = \"gs://cloud-samples-data/vertex-ai/structured_data/player_data\" \n",
    "\n",
    "!gsutil cp -r $DATASET_URI $BUCKET_URI"
   ]
  },
  {
   "cell_type": "code",
   "execution_count": null,
   "id": "99d1d5db-54d0-479d-b9f5-5352a16430ce",
   "metadata": {
    "tags": []
   },
   "outputs": [],
   "source": [
    "import logging\n",
    "import os\n",
    "import time\n",
    "\n",
    "logger = logging.getLogger(\"logger\")\n",
    "logging.basicConfig(level=logging.INFO)\n",
    "\n",
    "import kfp.compiler as compiler\n",
    "# Pipeline Experiments\n",
    "import kfp.dsl as dsl\n",
    "# Vertex AI\n",
    "from google.cloud import aiplatform as vertex_ai\n",
    "from kfp.dsl import Artifact, Input, Metrics, Model, Output, component\n",
    "from typing import NamedTuple"
   ]
  },
  {
   "cell_type": "code",
   "execution_count": null,
   "id": "68c0589b-54c8-4697-8481-3c056e083303",
   "metadata": {
    "tags": []
   },
   "outputs": [],
   "source": [
    "#import libraries and define constants\n",
    "# Experiments\n",
    "\n",
    "TASK = \"regression\"\n",
    "MODEL_TYPE = \"tensorflow\"\n",
    "EXPERIMENT_NAME = f\"{PROJECT_ID}-{TASK}-{MODEL_TYPE}-{TIMESTAMP}\"\n",
    "\n",
    "# Pipeline\n",
    "PIPELINE_URI = f\"{BUCKET_URI}/pipelines\"\n",
    "TRAIN_URI = f\"{BUCKET_URI}/player_data/data.csv\"\n",
    "LABEL_URI = f\"{BUCKET_URI}/player_data/labels.csv\"\n",
    "MODEL_URI = f\"{BUCKET_URI}/model\"\n",
    "DISPLAY_NAME = \"experiments-demo-gaming-data\"\n",
    "BQ_DATASET = \"player_data\"\n",
    "BQ_LOCATION = \"US\"  \n",
    "VIEW_NAME = 'dataset_test'\n",
    "PIPELINE_JSON_PKG_PATH = \"experiments_demo_gaming_data.json\"\n",
    "PIPELINE_ROOT = f\"gs://{BUCKET_URI}/pipeline_root\""
   ]
  },
  {
   "cell_type": "code",
   "execution_count": null,
   "id": "bd3adc2c-40ec-4ba8-aa60-390ebe7c46d3",
   "metadata": {
    "tags": []
   },
   "outputs": [],
   "source": [
    "#initialize vertex AI SDK \n",
    "vertex_ai.init(project=PROJECT_ID, staging_bucket=BUCKET_URI)"
   ]
  },
  {
   "cell_type": "code",
   "execution_count": null,
   "id": "c12c8927-510a-40b9-8b39-020e4695ea73",
   "metadata": {
    "tags": []
   },
   "outputs": [],
   "source": [
    "@component(\n",
    "    packages_to_install=[\n",
    "        \"numpy==1.21.0\",\n",
    "        \"pandas==1.3.5\", \n",
    "        \"scikit-learn==1.0.2\",\n",
    "        \"tensorflow==2.9.0\",\n",
    "    ]\n",
    ")\n",
    "def custom_trainer(\n",
    "    train_uri: str,\n",
    "    label_uri: str,\n",
    "    dropout_rate: float,\n",
    "    learning_rate: float,\n",
    "    epochs: int,\n",
    "    model_uri: str,\n",
    "    metrics: Output[Metrics], \n",
    "    model_metadata: Output[Model], \n",
    "    \n",
    "\n",
    "):\n",
    "\n",
    "    # import libraries\n",
    "    import logging\n",
    "    import uuid\n",
    "    from pathlib import Path as path\n",
    "\n",
    "    import pandas as pd\n",
    "    import tensorflow as tf\n",
    "    from tensorflow import keras\n",
    "    from tensorflow.keras.models import Sequential\n",
    "    from tensorflow.keras.layers import Dense\n",
    "    from tensorflow.keras.layers import Dropout\n",
    "    from tensorflow.keras.metrics import Metric \n",
    "    from sklearn.metrics import accuracy_score\n",
    "    from sklearn.model_selection import train_test_split\n",
    "    from sklearn.preprocessing import StandardScaler\n",
    "    from sklearn.metrics import mean_absolute_error\n",
    "    import numpy as np\n",
    "    from math import sqrt\n",
    "    import os\n",
    "    import tempfile\n",
    "\n",
    "    # set variables and use gcsfuse to update prefixes\n",
    "    gs_prefix = \"gs://\"\n",
    "    gcsfuse_prefix = \"/gcs/\"\n",
    "    train_path = train_uri.replace(gs_prefix, gcsfuse_prefix)\n",
    "    label_path = label_uri.replace(gs_prefix, gcsfuse_prefix)\n",
    "    model_path = model_uri.replace(gs_prefix, gcsfuse_prefix)\n",
    "\n",
    "    def get_logger():\n",
    "\n",
    "        logger = logging.getLogger(__name__)\n",
    "        logger.setLevel(logging.INFO)\n",
    "        handler = logging.StreamHandler()\n",
    "        handler.setFormatter(\n",
    "            logging.Formatter(\"%(asctime)s - %(name)s - %(levelname)s - %(message)s\")\n",
    "        )\n",
    "        logger.addHandler(handler)\n",
    "        return logger\n",
    "\n",
    "    def get_data(\n",
    "        train_path: str, \n",
    "        label_path: str\n",
    "    ) -> (pd.DataFrame): \n",
    "        \n",
    "        \n",
    "        #load data into pandas dataframe\n",
    "        data_0 = pd.read_csv(train_path)\n",
    "        labels_0 = pd.read_csv(label_path)\n",
    "        \n",
    "        #drop unnecessary leading columns\n",
    "        \n",
    "        data = data_0.drop('Unnamed: 0', axis=1)\n",
    "        labels = labels_0.drop('Unnamed: 0', axis=1)\n",
    "        \n",
    "        #save as numpy array for reshaping of data \n",
    "        \n",
    "        labels = labels.values\n",
    "        data = data.values\n",
    "    \n",
    "        # Split the data\n",
    "        labels = labels.reshape((labels.size,))\n",
    "        train_data, test_data, train_labels, test_labels = train_test_split(data, labels, test_size=0.2, shuffle=True, random_state=7)\n",
    "    \n",
    "        #Convert data back to pandas dataframe for scaling\n",
    "        \n",
    "        train_data = pd.DataFrame(train_data)\n",
    "        test_data = pd.DataFrame(test_data)\n",
    "        train_labels = pd.DataFrame(train_labels)\n",
    "        test_labels = pd.DataFrame(test_labels)\n",
    "        \n",
    "        #Scale and normalize the training dataset\n",
    "        \n",
    "        scaler = StandardScaler()\n",
    "        scaler.fit(train_data)\n",
    "        train_data = pd.DataFrame(scaler.transform(train_data), index=train_data.index, columns=train_data.columns)\n",
    "        test_data = pd.DataFrame(scaler.transform(test_data), index=test_data.index, columns=test_data.columns)\n",
    "        \n",
    "        return train_data,train_labels, test_data, test_labels \n",
    "    \n",
    "        \"\"\" Train your Keras model passing in the training data and values for learning rate, dropout rate,and the number of epochs \"\"\"\n",
    "\n",
    "    def train_model(\n",
    "        learning_rate: float, \n",
    "        dropout_rate: float,\n",
    "        epochs: float,\n",
    "        train_data: pd.DataFrame,\n",
    "        train_labels: pd.DataFrame):\n",
    " \n",
    "        # Train tensorflow model\n",
    "        param = {\"learning_rate\": learning_rate, \"dropout_rate\": dropout_rate, \"epochs\": epochs}\n",
    "        model = Sequential()\n",
    "        model.add(Dense(500, input_dim=train_data.shape[1], activation= \"relu\"))\n",
    "        model.add(Dropout(param['dropout_rate']))\n",
    "        model.add(Dense(100, activation= \"relu\"))\n",
    "        model.add(Dense(50, activation= \"relu\"))\n",
    "        model.add(Dense(1))\n",
    "            \n",
    "        model.compile(\n",
    "        tf.keras.optimizers.Adam(learning_rate= param['learning_rate']),\n",
    "        loss='mse',\n",
    "        metrics=[tf.keras.metrics.RootMeanSquaredError(),tf.keras.metrics.MeanAbsoluteError()])\n",
    "        \n",
    "        model.fit(train_data, train_labels, epochs= param['epochs'])\n",
    "        \n",
    "        return model\n",
    "\n",
    "    # Get Predictions\n",
    "    def get_predictions(model, test_data):\n",
    "\n",
    "        dtest = pd.DataFrame(test_data)\n",
    "        pred = model.predict(dtest)\n",
    "        return pred\n",
    "\n",
    "    # Evaluate predictions with MAE\n",
    "    def evaluate_model_mae(pred, test_labels):\n",
    "        \n",
    "        mae = mean_absolute_error(test_labels, pred)\n",
    "        return mae\n",
    "    \n",
    "    # Evaluate predictions with RMSE\n",
    "    def evaluate_model_rmse(pred, test_labels):\n",
    "\n",
    "        rmse = np.sqrt(np.mean((test_labels - pred)**2))\n",
    "        return rmse    \n",
    " \n",
    "    \n",
    "    #Save your trained model in GCS     \n",
    "    def save_model(model, model_path):\n",
    "\n",
    "        model_id = str(uuid.uuid1())\n",
    "        model_path = f\"{model_path}/{model_id}\"        \n",
    "        path(model_path).parent.mkdir(parents=True, exist_ok=True)\n",
    "        model.save(model_path + '/model_tensorflow')\n",
    "\n",
    "        \n",
    "    # Main ----------------------------------------------\n",
    "    \n",
    "    train_data, train_labels, test_data, test_labels = get_data(train_path, label_path)\n",
    "    model = train_model(learning_rate, dropout_rate, epochs, train_data,train_labels )\n",
    "    pred = get_predictions(model, test_data)\n",
    "    mae = evaluate_model_mae(pred, test_labels)\n",
    "    rmse = evaluate_model_rmse(pred, test_labels)\n",
    "    save_model(model, model_path)\n",
    "\n",
    "    # Metadata ------------------------------------------\n",
    "\n",
    "    #convert numpy array to pandas series\n",
    "    mae = pd.Series(mae)\n",
    "    rmse = pd.Series(rmse)\n",
    "\n",
    "    #log metrics and model artifacts with ML Metadata. Save metrics as a list. \n",
    "    metrics.log_metric(\"mae\", mae.to_list()) \n",
    "    metrics.log_metric(\"rmse\", rmse.to_list()) \n",
    "    model_metadata.uri = model_uri"
   ]
  },
  {
   "cell_type": "code",
   "execution_count": null,
   "id": "1996fecb-2464-4989-8d91-a344b6e0f51b",
   "metadata": {
    "tags": []
   },
   "outputs": [],
   "source": [
    "@dsl.pipeline(name=\"gaming-custom-training-pipeline\")\n",
    "def pipeline(\n",
    "    train_uri: str,\n",
    "    label_uri: str,\n",
    "    dropout_rate: float,\n",
    "    learning_rate: float,\n",
    "    epochs: int,\n",
    "    model_uri: str,\n",
    "):\n",
    "    # Pass arguments as keyword arguments\n",
    "    custom_trainer(\n",
    "        train_uri=train_uri,\n",
    "        label_uri=label_uri,\n",
    "        dropout_rate=dropout_rate,\n",
    "        learning_rate=learning_rate,\n",
    "        epochs=epochs,\n",
    "        model_uri=model_uri\n",
    "    )\n"
   ]
  },
  {
   "cell_type": "code",
   "execution_count": null,
   "id": "0407475f-26c3-459d-8541-85fb3cb772ff",
   "metadata": {
    "tags": []
   },
   "outputs": [],
   "source": [
    "#compile our pipeline\n",
    "compiler.Compiler().compile(pipeline_func=pipeline, package_path=\"gaming_pipeline.json\")"
   ]
  },
  {
   "cell_type": "code",
   "execution_count": null,
   "id": "b328eb57-299c-4519-8608-e22545c66df6",
   "metadata": {
    "tags": []
   },
   "outputs": [],
   "source": [
    "runs = [\n",
    "    {\"dropout_rate\": 0.001, \"learning_rate\": 0.001,\"epochs\": 20},\n",
    "    {\"dropout_rate\": 0.002, \"learning_rate\": 0.002,\"epochs\": 25},\n",
    "    {\"dropout_rate\": 0.003, \"learning_rate\": 0.003,\"epochs\": 30},\n",
    "    {\"dropout_rate\": 0.004, \"learning_rate\": 0.004,\"epochs\": 35},\n",
    "    {\"dropout_rate\": 0.005, \"learning_rate\": 0.005,\"epochs\": 40},\n",
    "]"
   ]
  },
  {
   "cell_type": "code",
   "execution_count": null,
   "id": "561e947f-73bd-427e-98f7-430d53e8c212",
   "metadata": {
    "tags": []
   },
   "outputs": [],
   "source": [
    "for i, run in enumerate(runs):\n",
    "\n",
    "    job = vertex_ai.PipelineJob(\n",
    "        display_name=f\"{EXPERIMENT_NAME}-pipeline-run-{i}\",\n",
    "        template_path=\"gaming_pipeline.json\",\n",
    "        pipeline_root=PIPELINE_URI,\n",
    "        parameter_values={\n",
    "            \"train_uri\": TRAIN_URI,\n",
    "            \"label_uri\": LABEL_URI,\n",
    "            \"model_uri\": MODEL_URI,\n",
    "            **run,\n",
    "        },\n",
    "    )\n",
    "    job.submit(experiment=EXPERIMENT_NAME)"
   ]
  },
  {
   "cell_type": "code",
   "execution_count": null,
   "id": "146d465d-e70b-4687-bcf0-28d3f70089a5",
   "metadata": {
    "tags": []
   },
   "outputs": [],
   "source": [
    "# see state/status of all the pipeline runs\n",
    "\n",
    "vertex_ai.get_experiment_df(EXPERIMENT_NAME)"
   ]
  },
  {
   "cell_type": "code",
   "execution_count": null,
   "id": "9cde5022-4135-4d85-9139-4adef7ff955e",
   "metadata": {
    "tags": []
   },
   "outputs": [],
   "source": [
    "#check on current status\n",
    "while True:\n",
    "    pipeline_experiments_df = vertex_ai.get_experiment_df(EXPERIMENT_NAME)\n",
    "    if all(\n",
    "        pipeline_state != \"COMPLETE\" for pipeline_state in pipeline_experiments_df.state\n",
    "    ):\n",
    "        print(\"Pipeline runs are still running...\")\n",
    "        if any(\n",
    "            pipeline_state == \"FAILED\"\n",
    "            for pipeline_state in pipeline_experiments_df.state\n",
    "        ):\n",
    "            print(\"At least one Pipeline run failed\")\n",
    "            break\n",
    "    else:\n",
    "        print(\"Pipeline experiment runs have completed\")\n",
    "        break\n",
    "    time.sleep(60)"
   ]
  },
  {
   "cell_type": "code",
   "execution_count": null,
   "id": "0a033c63-e4f7-4531-b47b-48e0b791098e",
   "metadata": {
    "tags": []
   },
   "outputs": [],
   "source": [
    "# Call the pipeline runs based on the experiment run name\n",
    "pipeline_experiments_df = vertex_ai.get_experiment_df(EXPERIMENT_NAME)\n",
    "job = vertex_ai.PipelineJob.get(pipeline_experiments_df.run_name[0])\n",
    "print(job.resource_name)\n",
    "print(job._dashboard_uri())"
   ]
  },
  {
   "cell_type": "code",
   "execution_count": null,
   "id": "80e3de72-ebaa-4122-9ff2-7c6e8f900880",
   "metadata": {
    "tags": []
   },
   "outputs": [],
   "source": [
    "# wait 60 seconds and view state again\n",
    "import time\n",
    "time.sleep(60)\n",
    "vertex_ai.get_experiment_df(EXPERIMENT_NAME)"
   ]
  }
 ],
 "metadata": {
  "kernelspec": {
   "display_name": "TensorFlow 2.10 (Local)",
   "language": "python",
   "name": "tf2-2-10"
  },
  "language_info": {
   "codemirror_mode": {
    "name": "ipython",
    "version": 3
   },
   "file_extension": ".py",
   "mimetype": "text/x-python",
   "name": "python",
   "nbconvert_exporter": "python",
   "pygments_lexer": "ipython3",
   "version": "3.10.15"
  }
 },
 "nbformat": 4,
 "nbformat_minor": 5
}
