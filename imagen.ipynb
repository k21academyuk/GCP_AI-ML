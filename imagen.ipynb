{
 "cells": [
  {
   "cell_type": "code",
   "execution_count": null,
   "id": "d75cf8d5-1d87-4ad0-b759-e136c7943a1b",
   "metadata": {},
   "outputs": [],
   "source": [
    "# Import required libraries\n",
    "import argparse\n",
    "import vertexai\n",
    "from vertexai.preview.vision_models import ImageGenerationModel\n"
   ]
  },
  {
   "cell_type": "code",
   "execution_count": null,
   "id": "262c56fd-b7b4-477a-bb8b-367fd3602850",
   "metadata": {},
   "outputs": [],
   "source": [
    "# Define the function to generate an image from a text prompt\n",
    "def generate_image(\n",
    "    project_id: str, location: str, output_file: str, prompt: str\n",
    ") -> vertexai.preview.vision_models.ImageGenerationResponse:\n",
    "    \"\"\"\n",
    "    This function generates an image based on a text prompt using Vertex AI's Image Generation Model.\n",
    "    \n",
    "    Args:\n",
    "        project_id (str): The Google Cloud project ID, used to initialize Vertex AI.\n",
    "        location (str): The Google Cloud region where the Vertex AI service is hosted (e.g., 'us-central1').\n",
    "        output_file (str): The local path where the generated image will be saved.\n",
    "        prompt (str): The text description of the image you want to generate.\n",
    "        \n",
    "    Returns:\n",
    "        vertexai.preview.vision_models.ImageGenerationResponse: The response containing the generated images.\n",
    "    \"\"\"\n",
    "    \n",
    "    # Initialize Vertex AI with the provided project ID and region\n",
    "    vertexai.init(project=project_id, location=location)\n",
    "\n",
    "    # Load the pre-trained Image Generation model\n",
    "    model = ImageGenerationModel.from_pretrained(\"imagegeneration@002\")\n",
    "\n",
    "    # Generate the image(s) based on the prompt\n",
    "    images = model.generate_images(\n",
    "        prompt=prompt,  # The text description of the image to generate\n",
    "        number_of_images=1,  # The number of images to generate (default is 1)\n",
    "        seed=1,  # Optional seed for randomization (ensure consistent results if needed)\n",
    "        add_watermark=False,  # Whether to add a watermark to the generated image (set to False to remove)\n",
    "    )\n",
    "\n",
    "    # Save the first generated image to the specified output file path\n",
    "    images[0].save(location=output_file)\n",
    "\n",
    "    # Return the list of generated images\n",
    "    return images\n"
   ]
  },
  {
   "cell_type": "code",
   "execution_count": null,
   "id": "5876437d-226d-4b99-a0d4-af178ff1ae8a",
   "metadata": {},
   "outputs": [],
   "source": [
    "# Example usage of the function (Replace with your actual project details)\n",
    "generate_image(\n",
    "    project_id=\"your-project-id\",  # Replace with your actual Google Cloud project ID\n",
    "    location=\"us-central1\",  # Replace with the appropriate Google Cloud region\n",
    "    output_file=\"image.jpeg\",  # Local path where the generated image will be saved\n",
    "    prompt=\"Create an image of a cricket ground in the heart of Los Angeles\",  # Text prompt to describe the image\n",
    ")\n"
   ]
  }
 ],
 "metadata": {
  "environment": {
   "kernel": "conda-base-py",
   "name": "workbench-notebooks.m126",
   "type": "gcloud",
   "uri": "us-docker.pkg.dev/deeplearning-platform-release/gcr.io/workbench-notebooks:m126"
  },
  "kernelspec": {
   "display_name": "Python 3 (ipykernel) (Local)",
   "language": "python",
   "name": "conda-base-py"
  },
  "language_info": {
   "codemirror_mode": {
    "name": "ipython",
    "version": 3
   },
   "file_extension": ".py",
   "mimetype": "text/x-python",
   "name": "python",
   "nbconvert_exporter": "python",
   "pygments_lexer": "ipython3",
   "version": "3.10.15"
  }
 },
 "nbformat": 4,
 "nbformat_minor": 5
}
