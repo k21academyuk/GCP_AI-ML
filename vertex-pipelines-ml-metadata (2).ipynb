{
 "cells": [
  {
   "cell_type": "markdown",
   "metadata": {
    "id": "No17Cw5hgx12"
   },
   "source": [
    "### Install Vertex AI SDK for Python and other required packages\n"
   ]
  },
  {
   "cell_type": "code",
   "execution_count": null,
   "metadata": {
    "tags": []
   },
   "outputs": [],
   "source": [
    "pip install --upgrade --force-reinstall google-cloud-aiplatform 'kfp<2.0' pydantic ydata-profiling\n"
   ]
  },
  {
   "cell_type": "code",
   "execution_count": 1,
   "metadata": {
    "id": "wyy5Lbnzg5fi",
    "tags": []
   },
   "outputs": [],
   "source": [
    "! pip3 install --upgrade --quiet google-cloud-aiplatform \\\n",
    "                                 'kfp<2.0'"
   ]
  },
  {
   "cell_type": "markdown",
   "metadata": {
    "id": "R5Xep4W9lq-Z"
   },
   "source": [
    "### Restart runtime (Colab only)\n",
    "\n",
    "To use the newly installed packages, you must restart the runtime on Google Colab."
   ]
  },
  {
   "cell_type": "code",
   "execution_count": 2,
   "metadata": {
    "id": "XRvKdaPDTznN",
    "tags": []
   },
   "outputs": [],
   "source": [
    "import sys\n",
    "\n",
    "if \"google.colab\" in sys.modules:\n",
    "\n",
    "    import IPython\n",
    "\n",
    "    app = IPython.Application.instance()\n",
    "    app.kernel.do_shutdown(True)"
   ]
  },
  {
   "cell_type": "markdown",
   "metadata": {
    "id": "SbmM4z7FOBpM"
   },
   "source": [
    "<div class=\"alert alert-block alert-warning\">\n",
    "<b>⚠️ The kernel is going to restart. Wait until it's finished before continuing to the next step. ⚠️</b>\n",
    "</div>\n"
   ]
  },
  {
   "cell_type": "markdown",
   "metadata": {
    "id": "dmWOrTJ3gx13"
   },
   "source": [
    "### Authenticate your notebook environment (Colab only)\n",
    "\n",
    "Authenticate your environment on Google Colab.\n"
   ]
  },
  {
   "cell_type": "code",
   "execution_count": 3,
   "metadata": {
    "id": "NyKGtVQjgx13",
    "tags": []
   },
   "outputs": [],
   "source": [
    "import sys\n",
    "\n",
    "if \"google.colab\" in sys.modules:\n",
    "\n",
    "    from google.colab import auth\n",
    "\n",
    "    auth.authenticate_user()"
   ]
  },
  {
   "cell_type": "markdown",
   "metadata": {
    "id": "DF4l8DTdWgPY"
   },
   "source": [
    "### Set Google Cloud project information\n",
    "\n",
    "To get started using Vertex AI, you must have an existing Google Cloud project. Learn more about [setting up a project and a development environment](https://cloud.google.com/vertex-ai/docs/start/cloud-environment)."
   ]
  },
  {
   "cell_type": "code",
   "execution_count": 4,
   "metadata": {
    "id": "Nqwi-5ufWp_B",
    "tags": []
   },
   "outputs": [
    {
     "name": "stdout",
     "output_type": "stream",
     "text": [
      "Updated property [core/project].\n"
     ]
    }
   ],
   "source": [
    "PROJECT_ID = \"noted-casing-443608-r1\"  # @param {type:\"string\"}\n",
    "LOCATION = \"us-central1\"  # @param {type:\"string\"}\n",
    "\n",
    "# Set the project id\n",
    "! gcloud config set project {PROJECT_ID}"
   ]
  },
  {
   "cell_type": "markdown",
   "metadata": {
    "id": "aab852d94fc7"
   },
   "source": [
    "#### Enable Cloud services used throughout this notebook.\n",
    "\n",
    "Run the cell below to the enable Compute Engine, Container Registry, and Vertex AI services."
   ]
  },
  {
   "cell_type": "code",
   "execution_count": 5,
   "metadata": {
    "id": "18396d3d7fe4",
    "tags": []
   },
   "outputs": [
    {
     "name": "stdout",
     "output_type": "stream",
     "text": [
      "Operation \"operations/acat.p2-83022982256-b473c86a-8a6b-4179-9478-09861e2a5ecf\" finished successfully.\n"
     ]
    }
   ],
   "source": [
    "!gcloud services enable compute.googleapis.com         \\\n",
    "                       containerregistry.googleapis.com  \\\n",
    "                       aiplatform.googleapis.com"
   ]
  },
  {
   "cell_type": "markdown",
   "metadata": {
    "id": "bucket:mbsdk"
   },
   "source": [
    "### Create a Cloud Storage bucket\n",
    "\n",
    "Create a storage bucket to store intermediate artifacts such as datasets."
   ]
  },
  {
   "cell_type": "code",
   "execution_count": 6,
   "metadata": {
    "id": "bucket",
    "tags": []
   },
   "outputs": [],
   "source": [
    "BUCKET_URI = f\"gs://your-bucket-name-{PROJECT_ID}-unique\"  # @param {type:\"string\"}"
   ]
  },
  {
   "cell_type": "markdown",
   "metadata": {
    "id": "create_bucket"
   },
   "source": [
    "**Only if your bucket doesn't already exist**: Run the following cell to create your Cloud Storage bucket."
   ]
  },
  {
   "cell_type": "code",
   "execution_count": 7,
   "metadata": {
    "id": "create_bucket",
    "tags": []
   },
   "outputs": [
    {
     "name": "stdout",
     "output_type": "stream",
     "text": [
      "Creating gs://your-bucket-name-noted-casing-443608-r1-unique/...\n"
     ]
    }
   ],
   "source": [
    "! gsutil mb -l {LOCATION} -p {PROJECT_ID} {BUCKET_URI}"
   ]
  },
  {
   "cell_type": "markdown",
   "metadata": {
    "id": "set_service_account"
   },
   "source": [
    "### Service Account\n",
    "\n",
    "Use a service account to create Vertex AI Pipeline jobs.\n",
    "\n",
    "If you don't want to use your project's Compute Engine service account, set `SERVICE_ACCOUNT` to another service account ID."
   ]
  },
  {
   "cell_type": "code",
   "execution_count": 12,
   "metadata": {
    "id": "set_service_account",
    "tags": []
   },
   "outputs": [],
   "source": [
    "SERVICE_ACCOUNT = \"[your-service-account]\"  # @param {type:\"string\"}"
   ]
  },
  {
   "cell_type": "code",
   "execution_count": 13,
   "metadata": {
    "id": "autoset_service_account",
    "tags": []
   },
   "outputs": [
    {
     "name": "stdout",
     "output_type": "stream",
     "text": [
      "Service Account: 83022982256-compute@developer.gserviceaccount.com\n"
     ]
    }
   ],
   "source": [
    "import sys\n",
    "\n",
    "IS_COLAB = \"google.colab\" in sys.modules\n",
    "if (\n",
    "    SERVICE_ACCOUNT == \"\"\n",
    "    or SERVICE_ACCOUNT is None\n",
    "    or SERVICE_ACCOUNT == \"[your-service-account]\"\n",
    "):\n",
    "    # Get your service account from gcloud\n",
    "    if not IS_COLAB:\n",
    "        shell_output = !gcloud auth list 2>/dev/null\n",
    "        SERVICE_ACCOUNT = shell_output[2].replace(\"*\", \"\").strip()\n",
    "\n",
    "    else:  # IS_COLAB:\n",
    "        shell_output = ! gcloud projects describe  $PROJECT_ID\n",
    "        project_number = shell_output[-1].split(\":\")[1].strip().replace(\"'\", \"\")\n",
    "        SERVICE_ACCOUNT = f\"{project_number}-compute@developer.gserviceaccount.com\"\n",
    "\n",
    "    print(\"Service Account:\", SERVICE_ACCOUNT)"
   ]
  },
  {
   "cell_type": "markdown",
   "metadata": {
    "id": "set_service_account:pipelines"
   },
   "source": [
    "#### Set service account access for Vertex AI Pipelines\n",
    "\n",
    "Run the following commands to grant your service account access to read and write pipeline artifacts in the bucket that you created in the previous step -- you only need to run these once per service account."
   ]
  },
  {
   "cell_type": "code",
   "execution_count": 14,
   "metadata": {
    "id": "set_service_account:pipelines",
    "tags": []
   },
   "outputs": [],
   "source": [
    "! gsutil iam ch serviceAccount:{SERVICE_ACCOUNT}:roles/storage.objectCreator $BUCKET_URI\n",
    "\n",
    "! gsutil iam ch serviceAccount:{SERVICE_ACCOUNT}:roles/storage.objectViewer $BUCKET_URI"
   ]
  },
  {
   "cell_type": "markdown",
   "metadata": {
    "id": "XoEqT2Y4DJmf"
   },
   "source": [
    "### Import libraries and define constants"
   ]
  },
  {
   "cell_type": "markdown",
   "metadata": {
    "id": "Y9Uo3tifg1kx"
   },
   "source": [
    "Import required libraries."
   ]
  },
  {
   "cell_type": "code",
   "execution_count": 15,
   "metadata": {
    "id": "pRUOFELefqf1",
    "tags": []
   },
   "outputs": [],
   "source": [
    "import matplotlib.pyplot as plt\n",
    "import pandas as pd\n",
    "# We'll use this beta library for metadata querying\n",
    "from google.cloud import aiplatform, aiplatform_v1beta1\n",
    "from google.cloud.aiplatform import pipeline_jobs\n",
    "from kfp.v2 import compiler, dsl\n",
    "from kfp.v2.dsl import (Artifact, Dataset, Input, Metrics, Model, Output,\n",
    "                        OutputPath, component)"
   ]
  },
  {
   "cell_type": "markdown",
   "metadata": {
    "id": "xtXZWmYqJ1bh"
   },
   "source": [
    "Define some constants"
   ]
  },
  {
   "cell_type": "code",
   "execution_count": 16,
   "metadata": {
    "id": "JIOrI-hoJ46P",
    "tags": []
   },
   "outputs": [
    {
     "name": "stdout",
     "output_type": "stream",
     "text": [
      "env: PATH=/usr/local/cuda/bin:/opt/conda/bin:/opt/conda/condabin:/usr/local/bin:/usr/bin:/bin:/usr/local/games:/usr/games:/home/jupyter/.local/bin\n"
     ]
    },
    {
     "data": {
      "text/plain": [
       "'gs://your-bucket-name-noted-casing-443608-r1-unique/pipeline_root/'"
      ]
     },
     "execution_count": 16,
     "metadata": {},
     "output_type": "execute_result"
    }
   ],
   "source": [
    "PATH = get_ipython().run_line_magic(\"env\", \"PATH\")\n",
    "%env PATH={PATH}:/home/jupyter/.local/bin\n",
    "REGION = \"us-central1\"\n",
    "\n",
    "PIPELINE_ROOT = f\"{BUCKET_URI}/pipeline_root/\"\n",
    "PIPELINE_ROOT"
   ]
  },
  {
   "cell_type": "markdown",
   "metadata": {
    "id": "2937d462a96a"
   },
   "source": [
    "### Initialize Vertex AI SDK for Python"
   ]
  },
  {
   "cell_type": "code",
   "execution_count": 17,
   "metadata": {
    "id": "7def96de8098",
    "tags": []
   },
   "outputs": [],
   "source": [
    "aiplatform.init(project=PROJECT_ID, location=LOCATION)"
   ]
  },
  {
   "cell_type": "markdown",
   "metadata": {
    "id": "Xuny18aMcWDb"
   },
   "source": [
    "## Concepts\n",
    "\n",
    "To better understand [Vertex AI Pipelines](https://cloud.google.com/vertex-ai/docs/pipelines/introduction) and [Vertex AI ML Metadata](https://cloud.google.com/vertex-ai/docs/ml-metadata), here’re some relevant concepts:\n"
   ]
  },
  {
   "cell_type": "markdown",
   "metadata": {
    "id": "NThDci5bp0Uw"
   },
   "source": [
    "### Pipeline Run\n",
    "The term “run” refers to a single execution of your pipeline in Vertex AI Pipelines, during which artifacts, metrics, and associated metadata are generated."
   ]
  },
  {
   "cell_type": "markdown",
   "metadata": {
    "id": "SAyRR3Ydp4X5"
   },
   "source": [
    "### Artifact\n",
    "\n",
    "An artifact is a resource generated by your pipeline. Artifacts can be datasets, models, endpoints, or custom resources defined in your pipeline."
   ]
  },
  {
   "cell_type": "markdown",
   "metadata": {
    "id": "40ee71479689"
   },
   "source": [
    "### Metric\n",
    "\n",
    "A metric is a way to measure the performance of your pipeline runs and artifacts. For example, a metric can be the accuracy of a classification model artifact created in your pipeline, or the size of the dataset used to train your model."
   ]
  },
  {
   "cell_type": "markdown",
   "metadata": {
    "id": "57b1cc9981d5"
   },
   "source": [
    "### Metadata\n",
    "\n",
    "Metadata describes the artifacts and metrics generated by your pipeline runs. Metadata on a model, for example, includes the URL of the model artifacts, its name, and the time it was created."
   ]
  },
  {
   "cell_type": "markdown",
   "metadata": {
    "id": "l1YW2pgyegFP"
   },
   "source": [
    "## Creating a 3-step pipeline with custom components\n",
    "\n",
    "The focus of this lab is on understanding metadata from pipeline runs. To do that, you need a pipeline to run on Vertex AI Pipelines, which is where you start. Here, you define a 3-step pipeline with the following custom components:\n",
    "\n",
    "* `get_dataframe`: Retrieve data from a BigQuery table and convert it into a pandas DataFrame.\n",
    "* `train_sklearn_model`: Use the pandas DataFrame to train and export a scikit-learn model, along with some metrics.\n",
    "* `deploy_model`: Deploy the exported scikit-learn model to an endpoint in Vertex AI."
   ]
  },
  {
   "cell_type": "markdown",
   "metadata": {
    "id": "KPY41M9_AhZU"
   },
   "source": [
    "### Create and define Python function based components"
   ]
  },
  {
   "cell_type": "markdown",
   "metadata": {
    "id": "bfMQSmRuUuX-"
   },
   "source": [
    "First, define the `get_dataframe` component with the code below. This component does the following:\n",
    "* Creates a reference to a BigQuery table using the BigQuery client library\n",
    "* Downloads the BigQuery table and converts it to a shuffled pandas DataFrame\n",
    "* Exports the DataFrame to a CSV file"
   ]
  },
  {
   "cell_type": "code",
   "execution_count": 18,
   "metadata": {
    "id": "RiQuMv4bmpuV",
    "tags": []
   },
   "outputs": [],
   "source": [
    "@component(\n",
    "    packages_to_install=[\"google-cloud-bigquery[pandas]\", \"pyarrow\"],\n",
    "    base_image=\"python:3.10\",\n",
    "    output_component_file=\"create_dataset.yaml\",\n",
    ")\n",
    "def get_dataframe(\n",
    "    project_id: str, bq_table: str, output_data_path: OutputPath(\"Dataset\")\n",
    "):\n",
    "    from google.cloud import bigquery\n",
    "\n",
    "    bqclient = bigquery.Client(project=project_id)\n",
    "    table = bigquery.TableReference.from_string(bq_table)\n",
    "    rows = bqclient.list_rows(table)\n",
    "    dataframe = rows.to_dataframe(\n",
    "        create_bqstorage_client=True,\n",
    "    )\n",
    "    dataframe = dataframe.sample(frac=1, random_state=2)\n",
    "    dataframe.to_csv(output_data_path)"
   ]
  },
  {
   "cell_type": "markdown",
   "metadata": {
    "id": "Y06J7A7yU21t"
   },
   "source": [
    "Next, create a component to train a scikit-learn model. This component does the following:\n",
    "* Imports a CSV as a pandas DataFrame.\n",
    "* Splits the DataFrame into train and test sets.\n",
    "* Trains a scikit-learn model.\n",
    "* Logs metrics from the model.\n",
    "* Saves the model artifacts as a local `model.joblib` file."
   ]
  },
  {
   "cell_type": "code",
   "execution_count": 19,
   "metadata": {
    "id": "p5JBCBKyH-NC",
    "tags": []
   },
   "outputs": [],
   "source": [
    "@component(\n",
    "    packages_to_install=[\"scikit-learn==1.2\", \"pandas\", \"joblib\", \"numpy==1.26.4\"],\n",
    "    base_image=\"python:3.10\",\n",
    "    output_component_file=\"beans_model_component.yaml\",\n",
    ")\n",
    "def sklearn_train(\n",
    "    dataset: Input[Dataset], metrics: Output[Metrics], model: Output[Model]\n",
    "):\n",
    "    import pandas as pd\n",
    "    from joblib import dump\n",
    "    from sklearn.model_selection import train_test_split\n",
    "    from sklearn.tree import DecisionTreeClassifier\n",
    "\n",
    "    df = pd.read_csv(dataset.path)\n",
    "    labels = df.pop(\"Class\").tolist()\n",
    "    data = df.values.tolist()\n",
    "    x_train, x_test, y_train, y_test = train_test_split(data, labels)\n",
    "\n",
    "    skmodel = DecisionTreeClassifier()\n",
    "    skmodel.fit(x_train, y_train)\n",
    "    score = skmodel.score(x_test, y_test)\n",
    "    print(\"accuracy is:\", score)\n",
    "\n",
    "    metrics.log_metric(\"accuracy\", (score * 100.0))\n",
    "    metrics.log_metric(\"framework\", \"Scikit Learn\")\n",
    "    metrics.log_metric(\"dataset_size\", len(df))\n",
    "    dump(skmodel, model.path + \".joblib\")"
   ]
  },
  {
   "cell_type": "markdown",
   "metadata": {
    "id": "gaNNTFPaU7KT"
   },
   "source": [
    "Finally, the last component  takes the trained model from the previous step, uploads the model to Vertex AI, and deploys it to an endpoint:"
   ]
  },
  {
   "cell_type": "code",
   "execution_count": 20,
   "metadata": {
    "id": "VGq5QCoyIEWJ",
    "tags": []
   },
   "outputs": [],
   "source": [
    "@component(\n",
    "    packages_to_install=[\"google-cloud-aiplatform\"],\n",
    "    base_image=\"python:3.10\",\n",
    "    output_component_file=\"beans_deploy_component.yaml\",\n",
    ")\n",
    "def deploy_model(\n",
    "    model: Input[Model],\n",
    "    project: str,\n",
    "    region: str,\n",
    "    vertex_endpoint: Output[Artifact],\n",
    "    vertex_model: Output[Model],\n",
    "):\n",
    "    from google.cloud import aiplatform\n",
    "\n",
    "    aiplatform.init(project=project, location=region)\n",
    "\n",
    "    deployed_model = aiplatform.Model.upload(\n",
    "        display_name=\"beans-model-pipeline\",\n",
    "        artifact_uri=model.uri.replace(\"model\", \"\"),\n",
    "        serving_container_image_uri=\"us-docker.pkg.dev/vertex-ai/prediction/sklearn-cpu.1-2:latest\",\n",
    "    )\n",
    "    endpoint = deployed_model.deploy(machine_type=\"n1-standard-4\")\n",
    "\n",
    "    # Save data to the output params\n",
    "    vertex_endpoint.uri = endpoint.resource_name\n",
    "    vertex_model.uri = deployed_model.resource_name"
   ]
  },
  {
   "cell_type": "markdown",
   "metadata": {
    "id": "UBXUgxgqA_GB"
   },
   "source": [
    "### Define and compile the pipeline"
   ]
  },
  {
   "cell_type": "code",
   "execution_count": 21,
   "metadata": {
    "id": "66odBYKrIN4q",
    "tags": []
   },
   "outputs": [],
   "source": [
    "@dsl.pipeline(\n",
    "    # Default pipeline root. You can override it when submitting the pipeline.\n",
    "    pipeline_root=PIPELINE_ROOT,\n",
    "    # A name for the pipeline.\n",
    "    name=\"mlmd-pipeline\",\n",
    ")\n",
    "def pipeline(\n",
    "    bq_table: str,\n",
    "    output_data_path: str,\n",
    "    project: str,\n",
    "    region: str,\n",
    "):\n",
    "    dataset_task = get_dataframe(project, bq_table)\n",
    "\n",
    "    model_task = sklearn_train(dataset_task.output)\n",
    "\n",
    "    deploy_model(model=model_task.outputs[\"model\"], project=project, region=region)"
   ]
  },
  {
   "cell_type": "markdown",
   "metadata": {
    "id": "910541af051c"
   },
   "source": [
    "The following generates a JSON file that is then used to run the pipeline:"
   ]
  },
  {
   "cell_type": "code",
   "execution_count": 22,
   "metadata": {
    "id": "o_wnT10RJ7-W",
    "tags": []
   },
   "outputs": [
    {
     "name": "stderr",
     "output_type": "stream",
     "text": [
      "/opt/conda/lib/python3.10/site-packages/kfp/v2/compiler/compiler.py:1290: FutureWarning: APIs imported from the v1 namespace (e.g. kfp.dsl, kfp.components, etc) will not be supported by the v2 compiler since v2.0.0\n",
      "  warnings.warn(\n"
     ]
    }
   ],
   "source": [
    "compiler.Compiler().compile(pipeline_func=pipeline, package_path=\"mlmd_pipeline.json\")"
   ]
  },
  {
   "cell_type": "markdown",
   "metadata": {
    "id": "u-iTnzt3B6Z_"
   },
   "source": [
    "### Initiate pipeline runs\n",
    "\n",
    "First, define a timestamp to use as your pipeline job IDs.\n",
    "\n",
    "Then for each run, create an instance of `PipelineJob` from the `pipeline_jobs` module.\n",
    " For each instance provide the following details:\n",
    "\n",
    "* `display_name` : Human-readable name for the pipeline job.\n",
    "* `template_path` : This specifies the path to the pipeline template file in JSON format, which contains the pipeline's configuration and structure created in the previous steps.\n",
    "* `job_id` : This sets a unique identifier for the job.\n",
    "* `parameter_values` : This dictionary contains key-value pairs for the parameters required by the pipeline which are metioned during pipeline definition.\n",
    "    * `bq_table` :  Specifies the BigQuery table to use.\n",
    "    * `output_data_path` : Defines the path for the output data file.\n",
    "    * `project` : Specifies the Google Cloud project ID.\n",
    "    * `region` : Defines the region where the pipeline will run.\n",
    "* enable_caching : When set to `True`, caching is enabled for the pipeline run. This lets the system reuse previous results, if the same job has been executed before with identical parameters, thereby saving time and resources"
   ]
  },
  {
   "cell_type": "code",
   "execution_count": 23,
   "metadata": {
    "id": "i2wnpu8_7JfV",
    "tags": []
   },
   "outputs": [],
   "source": [
    "from datetime import datetime\n",
    "\n",
    "TIMESTAMP = datetime.now().strftime(\"%Y%m%d%H%M%S\")"
   ]
  },
  {
   "cell_type": "markdown",
   "metadata": {
    "id": "3d380ed72490"
   },
   "source": [
    "Create a pipeline run using the smaller version beans dataset."
   ]
  },
  {
   "cell_type": "code",
   "execution_count": 24,
   "metadata": {
    "id": "ff4aee966c5f",
    "tags": []
   },
   "outputs": [],
   "source": [
    "run1 = pipeline_jobs.PipelineJob(\n",
    "    display_name=\"mlmd-pipeline\",\n",
    "    template_path=\"mlmd_pipeline.json\",\n",
    "    job_id=\"mlmd-pipeline-small-{}\".format(TIMESTAMP),\n",
    "    parameter_values={\n",
    "        \"bq_table\": \"sara-vertex-demos.beans_demo.small_dataset\",\n",
    "        \"output_data_path\": \"data.csv\",\n",
    "        \"project\": PROJECT_ID,\n",
    "        \"region\": REGION,\n",
    "    },\n",
    "    enable_caching=True,\n",
    ")"
   ]
  },
  {
   "cell_type": "markdown",
   "metadata": {
    "id": "555ac88a22cf"
   },
   "source": [
    "Next, create another pipeline run using a larger version of the same dataset."
   ]
  },
  {
   "cell_type": "code",
   "execution_count": 25,
   "metadata": {
    "id": "3d9fcb6a4a9e",
    "tags": []
   },
   "outputs": [],
   "source": [
    "run2 = pipeline_jobs.PipelineJob(\n",
    "    display_name=\"mlmd-pipeline\",\n",
    "    template_path=\"mlmd_pipeline.json\",\n",
    "    job_id=\"mlmd-pipeline-large-{}\".format(TIMESTAMP),\n",
    "    parameter_values={\n",
    "        \"bq_table\": \"sara-vertex-demos.beans_demo.large_dataset\",\n",
    "        \"output_data_path\": \"data.csv\",\n",
    "        \"project\": PROJECT_ID,\n",
    "        \"region\": REGION,\n",
    "    },\n",
    "    enable_caching=True,\n",
    ")"
   ]
  },
  {
   "cell_type": "markdown",
   "metadata": {
    "id": "5670722f7668"
   },
   "source": [
    "Finally, kick off pipeline executions for both runs. It's best to do this in two separate notebook cells so you can see the output for each run."
   ]
  },
  {
   "cell_type": "code",
   "execution_count": 26,
   "metadata": {
    "id": "1f477f5565c6",
    "tags": []
   },
   "outputs": [
    {
     "name": "stdout",
     "output_type": "stream",
     "text": [
      "Creating PipelineJob\n",
      "PipelineJob created. Resource name: projects/83022982256/locations/us-central1/pipelineJobs/mlmd-pipeline-small-20241226052552\n",
      "To use this PipelineJob in another session:\n",
      "pipeline_job = aiplatform.PipelineJob.get('projects/83022982256/locations/us-central1/pipelineJobs/mlmd-pipeline-small-20241226052552')\n",
      "View Pipeline Job:\n",
      "https://console.cloud.google.com/vertex-ai/locations/us-central1/pipelines/runs/mlmd-pipeline-small-20241226052552?project=83022982256\n"
     ]
    }
   ],
   "source": [
    "run1.submit()"
   ]
  },
  {
   "cell_type": "markdown",
   "metadata": {
    "id": "6e682e41af78"
   },
   "source": [
    "Then, kick off the second run:"
   ]
  },
  {
   "cell_type": "code",
   "execution_count": 27,
   "metadata": {
    "id": "cb263e503ced",
    "tags": []
   },
   "outputs": [
    {
     "name": "stdout",
     "output_type": "stream",
     "text": [
      "Creating PipelineJob\n",
      "PipelineJob created. Resource name: projects/83022982256/locations/us-central1/pipelineJobs/mlmd-pipeline-large-20241226052552\n",
      "To use this PipelineJob in another session:\n",
      "pipeline_job = aiplatform.PipelineJob.get('projects/83022982256/locations/us-central1/pipelineJobs/mlmd-pipeline-large-20241226052552')\n",
      "View Pipeline Job:\n",
      "https://console.cloud.google.com/vertex-ai/locations/us-central1/pipelines/runs/mlmd-pipeline-large-20241226052552?project=83022982256\n"
     ]
    }
   ],
   "source": [
    "run2.submit()"
   ]
  },
  {
   "cell_type": "markdown",
   "metadata": {
    "id": "cc15017be48e"
   },
   "source": [
    "After running this cell, there is a link to view each pipeline in the Google Cloud console. Open that link to get more details about your pipeline.\n",
    "\n",
    "**These pipeline runs will take 10-15 minutes to complete.**"
   ]
  },
  {
   "cell_type": "markdown",
   "metadata": {
    "id": "jZLrJZTfL7tE"
   },
   "source": [
    "## Comparing pipeline runs"
   ]
  },
  {
   "cell_type": "markdown",
   "metadata": {
    "id": "A1PqKxlpOZa2"
   },
   "source": [
    "Once both the pipelines run successfully, you're ready to take a closer look at pipeline metrics using the Vertex AI SDK for Python.\n"
   ]
  },
  {
   "cell_type": "markdown",
   "metadata": {
    "id": "jbRf1WoH_vbY"
   },
   "source": [
    "Use `aiplatform.get_pipeline_df()` method to retrieve the metadata for the last two runs of the pipeline. Then, load it into a Pandas DataFrame. \n",
    "The `pipeline` parameter specifies the name of your pipeline as defined in the pipeline configuration, which in this case is *mlmd-pipeline*."
   ]
  },
  {
   "cell_type": "code",
   "execution_count": 28,
   "metadata": {
    "id": "90d850cda34f",
    "tags": []
   },
   "outputs": [
    {
     "name": "stdout",
     "output_type": "stream",
     "text": [
      "   pipeline_name                            run_name param.input:region  \\\n",
      "0  mlmd-pipeline  mlmd-pipeline-large-20241226052552        us-central1   \n",
      "1  mlmd-pipeline  mlmd-pipeline-small-20241226052552        us-central1   \n",
      "\n",
      "                         param.input:bq_table     param.input:project  \\\n",
      "0  sara-vertex-demos.beans_demo.large_dataset  noted-casing-443608-r1   \n",
      "1  sara-vertex-demos.beans_demo.small_dataset  noted-casing-443608-r1   \n",
      "\n",
      "                     param.vmlmd_lineage_integration  \\\n",
      "0  {'pipeline_run_component': {'location_id': 'us...   \n",
      "1  {'pipeline_run_component': {'project_id': 'not...   \n",
      "\n",
      "  param.input:output_data_path  \n",
      "0                     data.csv  \n",
      "1                     data.csv  \n"
     ]
    }
   ],
   "source": [
    "df = aiplatform.get_pipeline_df(pipeline=\"mlmd-pipeline\")\n",
    "print(df)"
   ]
  },
  {
   "cell_type": "markdown",
   "metadata": {
    "id": "d23e2cb66265"
   },
   "source": [
    "You’ve only executed the pipeline twice here, but you can imagine how many metrics you'd have with more executions. Next, create a custom visualization with matplotlib to see the relationship between the model accuracy and the amount of data used for training. Run the following to generate a graph:"
   ]
  },
  {
   "cell_type": "code",
   "execution_count": 30,
   "metadata": {
    "tags": []
   },
   "outputs": [
    {
     "data": {
      "image/png": "[encoded data removed]",
      "text/plain": [
       "<Figure size 640x480 with 1 Axes>"
      ]
     },
     "metadata": {},
     "output_type": "display_data"
    }
   ],
   "source": [
    "plt.plot(df[df.columns[0]], df[df.columns[1]], label=\"Accuracy\")  # Assuming the first two columns are the ones you need\n",
    "plt.title(\"Accuracy and dataset size\")\n",
    "plt.legend(loc=4)\n",
    "plt.show()\n"
   ]
  },
  {
   "cell_type": "code",
   "execution_count": 34,
   "metadata": {
    "id": "5957415cc390",
    "tags": []
   },
   "outputs": [
    {
     "data": {
      "image/png": "[encoded data removed]",
      "text/plain": [
       "<Figure size 640x480 with 1 Axes>"
      ]
     },
     "metadata": {},
     "output_type": "display_data"
    }
   ],
   "source": [
    "plt.plot(df[df.columns[0]], df[df.columns[1]], label=\"Accuracy\")\n",
    "plt.title(\"Accuracy and dataset size\")\n",
    "plt.xticks(rotation=45)  # Rotate x-axis labels\n",
    "plt.legend(loc=4)\n",
    "plt.show()"
   ]
  },
  {
   "cell_type": "markdown",
   "metadata": {
    "id": "EYuYgqVCMKU1"
   },
   "source": [
    "## Querying pipeline metrics"
   ]
  },
  {
   "cell_type": "markdown",
   "metadata": {
    "id": "4431b5d062f3"
   },
   "source": [
    "In addition to creating a DataFrame of all pipeline metrics, you can programmatically query artifacts created in your ML system. From there you can create a custom dashboard or let others in your organizaiton get details on specific artifacts."
   ]
  },
  {
   "cell_type": "markdown",
   "metadata": {
    "id": "995723757c5d"
   },
   "source": [
    "### Getting all Model artifacts\n",
    "\n",
    "To query artifacts in this way, create a `MetadataServiceClient`:"
   ]
  },
  {
   "cell_type": "code",
   "execution_count": 35,
   "metadata": {
    "id": "r8orCj8iJuO1",
    "tags": []
   },
   "outputs": [],
   "source": [
    "API_ENDPOINT = \"{}-aiplatform.googleapis.com\".format(REGION)\n",
    "metadata_client = aiplatform_v1beta1.MetadataServiceClient(\n",
    "    client_options={\"api_endpoint\": API_ENDPOINT}\n",
    ")"
   ]
  },
  {
   "cell_type": "markdown",
   "metadata": {
    "id": "e5aee9cdc5bd"
   },
   "source": [
    "Next, make a `list_artifacts` request to that endpoint and pass a filter indicating which artifacts you'd like in your response. First, let's get all the artifacts in the project that are **models**. To do that, run the following in your notebook:"
   ]
  },
  {
   "cell_type": "code",
   "execution_count": 36,
   "metadata": {
    "id": "29260057ae40",
    "tags": []
   },
   "outputs": [],
   "source": [
    "MODEL_FILTER = 'schema_title = \"system.Model\"'\n",
    "artifact_request = aiplatform_v1beta1.ListArtifactsRequest(\n",
    "    parent=\"projects/{}/locations/{}/metadataStores/default\".format(PROJECT_ID, REGION),\n",
    "    filter=MODEL_FILTER,\n",
    ")\n",
    "model_artifacts = metadata_client.list_artifacts(artifact_request)"
   ]
  },
  {
   "cell_type": "markdown",
   "metadata": {
    "id": "dfb57f1b7833"
   },
   "source": [
    "The resulting `model_artifacts` response contains an iterable object for each model artifact in your project, along with associated metadata for each model."
   ]
  },
  {
   "cell_type": "markdown",
   "metadata": {
    "id": "WTHvPMweMlP1"
   },
   "source": [
    "### Filtering objects and displaying in a DataFrame"
   ]
  },
  {
   "cell_type": "markdown",
   "metadata": {
    "id": "F19_5lw0MqXv"
   },
   "source": [
    "Next, get all artifacts created after August 10, 2021 that are in `LIVE` state. "
   ]
  },
  {
   "cell_type": "code",
   "execution_count": 37,
   "metadata": {
    "id": "GmN9vE9pqqzt",
    "tags": []
   },
   "outputs": [],
   "source": [
    "LIVE_FILTER = 'create_time > \"2021-08-10T00:00:00-00:00\" AND state = LIVE'\n",
    "artifact_req = {\n",
    "    \"parent\": \"projects/{}/locations/{}/metadataStores/default\".format(\n",
    "        PROJECT_ID, REGION\n",
    "    ),\n",
    "    \"filter\": LIVE_FILTER,\n",
    "}\n",
    "live_artifacts = metadata_client.list_artifacts(artifact_req)"
   ]
  },
  {
   "cell_type": "markdown",
   "metadata": {
    "id": "6bba2012b7f0"
   },
   "source": [
    "Then, display the results in a DataFrame:"
   ]
  },
  {
   "cell_type": "code",
   "execution_count": 38,
   "metadata": {
    "id": "6bee5790cec4",
    "tags": []
   },
   "outputs": [
    {
     "name": "stdout",
     "output_type": "stream",
     "text": [
      "                                                 uri  \\\n",
      "0  gs://your-bucket-name-noted-casing-443608-r1-u...   \n",
      "1  gs://your-bucket-name-noted-casing-443608-r1-u...   \n",
      "\n",
      "                        createTime            type  \n",
      "0 2024-12-26 05:26:02.195000+00:00  system.Dataset  \n",
      "1 2024-12-26 05:26:00.522000+00:00  system.Dataset  \n"
     ]
    }
   ],
   "source": [
    "data = {\"uri\": [], \"createTime\": [], \"type\": []}\n",
    "\n",
    "for i in live_artifacts:\n",
    "    data[\"uri\"].append(i.uri)\n",
    "    data[\"createTime\"].append(i.create_time)\n",
    "    data[\"type\"].append(i.schema_title)\n",
    "\n",
    "df = pd.DataFrame.from_dict(data)\n",
    "print(df)"
   ]
  },
  {
   "cell_type": "markdown",
   "metadata": {
    "id": "TpV-iwP9qw9c"
   },
   "source": [
    "## Cleaning up\n",
    "\n",
    "To clean up all Google Cloud resources used in this project, you can [delete the Google Cloud\n",
    "project](https://cloud.google.com/resource-manager/docs/creating-managing-projects#shutting_down_projects) you used for the tutorial.\n",
    "\n",
    "If you don't want to delete the project, do the following to clean up the resources you used:\n",
    "\n",
    "* If you used Vertex AI Workbench notebooks to run this, stop or delete the notebook instance.\n",
    "\n",
    "* The pipeline runs you executed deployed endpoints in Vertex AI. Navigate to the [Google Cloud console](https://console.cloud.google.com/vertex-ai/endpoints) to delete those endpoints.\n",
    "\n",
    "* Delete the [Cloud Storage bucket](https://console.cloud.google.com/storage/browser/) you created.\n",
    "\n",
    "Alternatively, you can execute the below cell to clean up the resources used in this notebook."
   ]
  },
  {
   "cell_type": "code",
   "execution_count": 39,
   "metadata": {
    "id": "f2c21373a498",
    "tags": []
   },
   "outputs": [
    {
     "name": "stdout",
     "output_type": "stream",
     "text": [
      "Deleting PipelineJob : projects/83022982256/locations/us-central1/pipelineJobs/mlmd-pipeline-small-20241226052552\n",
      "PipelineJob deleted. . Resource name: projects/83022982256/locations/us-central1/pipelineJobs/mlmd-pipeline-small-20241226052552\n",
      "Deleting PipelineJob resource: projects/83022982256/locations/us-central1/pipelineJobs/mlmd-pipeline-small-20241226052552\n",
      "Delete PipelineJob backing LRO: projects/83022982256/locations/us-central1/operations/7566592078914781184\n",
      "PipelineJob resource projects/83022982256/locations/us-central1/pipelineJobs/mlmd-pipeline-small-20241226052552 deleted.\n",
      "Deleting PipelineJob : projects/83022982256/locations/us-central1/pipelineJobs/mlmd-pipeline-large-20241226052552\n",
      "PipelineJob deleted. . Resource name: projects/83022982256/locations/us-central1/pipelineJobs/mlmd-pipeline-large-20241226052552\n",
      "Deleting PipelineJob resource: projects/83022982256/locations/us-central1/pipelineJobs/mlmd-pipeline-large-20241226052552\n",
      "Delete PipelineJob backing LRO: projects/83022982256/locations/us-central1/operations/7955643273287041024\n",
      "PipelineJob resource projects/83022982256/locations/us-central1/pipelineJobs/mlmd-pipeline-large-20241226052552 deleted.\n",
      "Undeploying Endpoint model: projects/83022982256/locations/us-central1/endpoints/4663381756630532096\n",
      "Undeploy Endpoint model backing LRO: projects/83022982256/locations/us-central1/endpoints/4663381756630532096/operations/2030595013527732224\n",
      "Endpoint model undeployed. Resource name: projects/83022982256/locations/us-central1/endpoints/4663381756630532096\n",
      "Deleting Endpoint : projects/83022982256/locations/us-central1/endpoints/4663381756630532096\n",
      "Endpoint deleted. . Resource name: projects/83022982256/locations/us-central1/endpoints/4663381756630532096\n",
      "Deleting Endpoint resource: projects/83022982256/locations/us-central1/endpoints/4663381756630532096\n",
      "Delete Endpoint backing LRO: projects/83022982256/locations/us-central1/operations/6624495331864215552\n",
      "Endpoint resource projects/83022982256/locations/us-central1/endpoints/4663381756630532096 deleted.\n",
      "Undeploying Endpoint model: projects/83022982256/locations/us-central1/endpoints/4553043565759954944\n",
      "Undeploy Endpoint model backing LRO: projects/83022982256/locations/us-central1/endpoints/4553043565759954944/operations/2191035750252806144\n",
      "Endpoint model undeployed. Resource name: projects/83022982256/locations/us-central1/endpoints/4553043565759954944\n",
      "Deleting Endpoint : projects/83022982256/locations/us-central1/endpoints/4553043565759954944\n",
      "Endpoint deleted. . Resource name: projects/83022982256/locations/us-central1/endpoints/4553043565759954944\n",
      "Deleting Endpoint resource: projects/83022982256/locations/us-central1/endpoints/4553043565759954944\n",
      "Delete Endpoint backing LRO: projects/83022982256/locations/us-central1/operations/2866575694358380544\n",
      "Endpoint resource projects/83022982256/locations/us-central1/endpoints/4553043565759954944 deleted.\n",
      "Deleting Model : projects/83022982256/locations/us-central1/models/8763500199025836032\n",
      "Model deleted. . Resource name: projects/83022982256/locations/us-central1/models/8763500199025836032\n",
      "Deleting Model resource: projects/83022982256/locations/us-central1/models/8763500199025836032\n",
      "Delete Model backing LRO: projects/83022982256/locations/us-central1/models/8763500199025836032/operations/3848923363078569984\n",
      "Model resource projects/83022982256/locations/us-central1/models/8763500199025836032 deleted.\n",
      "Deleting Model : projects/83022982256/locations/us-central1/models/2296331134121803776\n",
      "Model deleted. . Resource name: projects/83022982256/locations/us-central1/models/2296331134121803776\n",
      "Deleting Model resource: projects/83022982256/locations/us-central1/models/2296331134121803776\n",
      "Delete Model backing LRO: projects/83022982256/locations/us-central1/models/2296331134121803776/operations/2686713184240271360\n",
      "Model resource projects/83022982256/locations/us-central1/models/2296331134121803776 deleted.\n"
     ]
    }
   ],
   "source": [
    "# delete pipelines\n",
    "try:\n",
    "    run1.delete()\n",
    "    run2.delete()\n",
    "except Exception as e:\n",
    "    print(e)\n",
    "\n",
    "# undeploy model from endpoints\n",
    "endpoints = aiplatform.Endpoint.list(\n",
    "    filter='display_name=\"beans-model-pipeline_endpoint\"'\n",
    ")\n",
    "for endpoint in endpoints:\n",
    "    deployed_models = endpoint.list_models()\n",
    "    for deployed_model in deployed_models:\n",
    "        endpoint.undeploy(deployed_model_id=deployed_model.id)\n",
    "    # delete endpoint\n",
    "    endpoint.delete()\n",
    "\n",
    "# delete model\n",
    "model_ids = aiplatform.Model.list(filter='display_name=\"beans-model-pipeline\"')\n",
    "for model_id in model_ids:\n",
    "    model = aiplatform.Model(model_name=model_id.resource_name)\n",
    "    model.delete()\n",
    "\n",
    "# delete locally generated files\n",
    "! rm -rf beans_deploy_component.yaml beans_model_component.yaml create_dataset.yaml mlmd_pipeline.json\n",
    "\n",
    "# delete cloud storage bucket\n",
    "delete_bucket = False  # set True for deletion\n",
    "if delete_bucket:\n",
    "    ! gsutil rm -rf {BUCKET_URI}"
   ]
  },
  {
   "cell_type": "code",
   "execution_count": null,
   "metadata": {},
   "outputs": [],
   "source": []
  }
 ],
 "metadata": {
  "colab": {
   "collapsed_sections": [],
   "name": "vertex-pipelines-ml-metadata.ipynb",
   "toc_visible": true
  },
  "environment": {
   "kernel": "conda-base-py",
   "name": "workbench-notebooks.m126",
   "type": "gcloud",
   "uri": "us-docker.pkg.dev/deeplearning-platform-release/gcr.io/workbench-notebooks:m126"
  },
  "kernelspec": {
   "display_name": "Python 3 (ipykernel) (Local)",
   "language": "python",
   "name": "conda-base-py"
  },
  "language_info": {
   "codemirror_mode": {
    "name": "ipython",
    "version": 3
   },
   "file_extension": ".py",
   "mimetype": "text/x-python",
   "name": "python",
   "nbconvert_exporter": "python",
   "pygments_lexer": "ipython3",
   "version": "3.10.15"
  }
 },
 "nbformat": 4,
 "nbformat_minor": 4
}
